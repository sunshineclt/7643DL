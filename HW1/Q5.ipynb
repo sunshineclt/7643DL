{
 "cells": [
  {
   "cell_type": "code",
   "execution_count": 8,
   "metadata": {},
   "outputs": [],
   "source": [
    "w1 = 1\n",
    "w2 = 2"
   ]
  },
  {
   "cell_type": "code",
   "execution_count": 9,
   "metadata": {},
   "outputs": [
    {
     "name": "stdout",
     "output_type": "stream",
     "text": [
      "7.80207426495e+24\n",
      "2.73105857863\n"
     ]
    }
   ],
   "source": [
    "import numpy as np\n",
    "def cal(w1, w2):\n",
    "    a = np.exp(w1)+np.exp(2*w2)\n",
    "    f1 = np.exp(a) + np.sin(a)\n",
    "    f2 = w1*w2+1/(1+np.exp(-w1))\n",
    "    return f1, f2\n",
    "f1, f2 = cal(w1, w2)\n",
    "print(f1)\n",
    "print(f2)"
   ]
  },
  {
   "cell_type": "code",
   "execution_count": 13,
   "metadata": {},
   "outputs": [
    {
     "name": "stdout",
     "output_type": "stream",
     "text": [
      "[[  2.12140853e+25   1.04307571e+27]\n",
      " [  2.19661134e+00   1.00000000e+00]]\n"
     ]
    }
   ],
   "source": [
    "jacobian1 = np.zeros([2, 2])\n",
    "delta_w = 0.01\n",
    "f1_plus, f2_plus = cal(w1 + delta_w, w2)\n",
    "f1_minus, f2_minus = cal(w1 - delta_w, w2)\n",
    "jacobian1[0, 0] = (f1_plus - f1_minus) / (2 * delta_w)\n",
    "jacobian1[1, 0] = (f2_plus - f2_minus) / (2 * delta_w)\n",
    "\n",
    "f1_plus, f2_plus = cal(w1, w2 + delta_w)\n",
    "f1_minus, f2_minus = cal(w1, w2 - delta_w)\n",
    "jacobian1[0, 1] = (f1_plus - f1_minus) / (2 * delta_w)\n",
    "jacobian1[1, 1] = (f2_plus - f2_minus) / (2 * delta_w)\n",
    "\n",
    "print(jacobian1)"
   ]
  },
  {
   "cell_type": "code",
   "execution_count": null,
   "metadata": {},
   "outputs": [],
   "source": []
  }
 ],
 "metadata": {
  "kernelspec": {
   "display_name": "Python 2",
   "language": "python",
   "name": "python2"
  },
  "language_info": {
   "codemirror_mode": {
    "name": "ipython",
    "version": 2
   },
   "file_extension": ".py",
   "mimetype": "text/x-python",
   "name": "python",
   "nbconvert_exporter": "python",
   "pygments_lexer": "ipython2",
   "version": "2.7.15"
  }
 },
 "nbformat": 4,
 "nbformat_minor": 2
}
